{
  "cells": [
    {
      "cell_type": "code",
      "execution_count": null,
      "metadata": {
        "id": "TnOKxJPkAHNY"
      },
      "outputs": [],
      "source": [
        "import numpy as np\n",
        "import pandas as pd\n",
        "import matplotlib.pyplot as plt\n",
        "import torch\n",
        "import torch.nn as nn\n",
        "from math import ceil, sqrt\n",
        "import copy"
      ]
    },
    {
      "cell_type": "markdown",
      "metadata": {
        "id": "qAS1l4GKA5EE"
      },
      "source": [
        "# Heston Model"
      ]
    },
    {
      "cell_type": "code",
      "execution_count": null,
      "metadata": {
        "id": "CJ-frD5OAYdf"
      },
      "outputs": [],
      "source": [
        "def heston_model_sim(S0, v0, rho, kappa, theta, sigma,T, N, M):\n",
        "        \"\"\"\n",
        "        Inputs:\n",
        "        - S0, v0: initial parameters for asset and variance\n",
        "        - rho   : correlation between asset returns and variance\n",
        "        - kappa : rate of mean reversion in variance process\n",
        "        - theta : long-term mean of variance process\n",
        "        - sigma : vol of vol / volatility of variance process\n",
        "        - T     : time of simulation\n",
        "        - N     : number of time steps\n",
        "        - M     : number of scenarios / simulations\n",
        "        \n",
        "        Outputs:\n",
        "        - asset prices over time (numpy array)\n",
        "        - variance over time (numpy array)\n",
        "        \"\"\"\n",
        "        # initialise other parameters\n",
        "        dt = T/N\n",
        "        mu = np.array([0,0])\n",
        "        cov = np.array([[1,rho],\n",
        "                        [rho,1]])\n",
        "\n",
        "        # arrays for storing prices and variances\n",
        "        S = np.full(shape=(N+1,M), fill_value=S0)\n",
        "        v = np.full(shape=(N+1,M), fill_value=v0)\n",
        "\n",
        "        # sampling correlated brownian motions under risk-neutral measure\n",
        "        Z = np.random.multivariate_normal(mu, cov, (N,M))\n",
        "\n",
        "        for i in range(1,N+1):\n",
        "            S[i] = S[i-1] * np.exp( (r - 0.5*v[i-1])*dt + np.sqrt(v[i-1] * dt) * Z[i-1,:,0] )\n",
        "            v[i] = np.maximum(v[i-1] + kappa*(theta-v[i-1])*dt + sigma*np.sqrt(v[i-1]*dt)*Z[i-1,:,1],0)\n",
        "        \n",
        "        return S, v"
      ]
    },
    {
      "cell_type": "code",
      "execution_count": null,
      "metadata": {
        "id": "CQSBQOkhDGVT"
      },
      "outputs": [],
      "source": []
    },
    {
      "cell_type": "code",
      "execution_count": null,
      "metadata": {
        "id": "pexnxMouAM1a"
      },
      "outputs": [],
      "source": [
        "class MultiDimensionalHeston:\n",
        "    def __init__(self, initial_prices, interest_rate, dividends, volatilities, correlation_matrix):\n",
        "        self.initial_prices = initial_prices\n",
        "        self.interest_rate = interest_rate\n",
        "        self.dividends = dividends\n",
        "        self.correlation_matrix = correlation_matrix\n",
        "        self.dimension = len(initial_prices)\n",
        "    \n",
        "\n",
        "    def Simulate_Next_State(self, current_price, current_variance, current_time, diffusion_times, nb_paths):\n",
        "        \"\"\" Simulate conditionnal stock prices under BS model until expiry and with constant timestep \"\"\"\n",
        "        delta_time = diffusion_times[0] - current_time\n",
        "        dW = np.sqrt(delta_time) * np.random.randn(nb_paths, len(diffusion_times), self.dimension)\n",
        "        cst = self.interest_rate - self.dividends - 0.5 * (np.sqrt(current_variance) ** 2)\n",
        "        W = np.cumsum(np.matmul(dW, self.var_cov), axis = 1)\n",
        "        S = current_price[:, np.newaxis, np.newaxis, :] * np.exp(cst * (diffusion_times[np.newaxis, :, np.newaxis] - current_time) + np.sqrt(current_variance) * W)\n",
        "      \n",
        "        return S"
      ]
    },
    {
      "cell_type": "code",
      "execution_count": null,
      "metadata": {
        "colab": {
          "base_uri": "https://localhost:8080/"
        },
        "id": "mmGkYyVUAl8n",
        "outputId": "9630e36b-9a3a-419c-942d-2b95939596a4"
      },
      "outputs": [
        {
          "data": {
            "text/plain": [
              "(0.04000000000000001, 0.0625)"
            ]
          },
          "execution_count": 30,
          "metadata": {},
          "output_type": "execute_result"
        }
      ],
      "source": [
        "# Parameters\n",
        "# simulation dependent\n",
        "S0 = 90             # asset price\n",
        "T = 3.0                # time in years\n",
        "r = 0.05               # risk-free rate\n",
        "N = 9                # number of time steps in simulation\n",
        "M = 8192               # number of simulations\n",
        "\n",
        "# Heston dependent parameters\n",
        "kappa = 3              # rate of mean reversion of variance under risk-neutral dynamics\n",
        "theta = 0.20**2        # long-term mean of variance under risk-neutral dynamics\n",
        "v0 = 0.25**2           # initial variance under risk-neutral dynamics\n",
        "rho = 0.7              # correlation between returns and variances under risk-neutral dynamics\n",
        "sigma = 0.6            # volatility of volatility\n",
        "\n",
        "theta, v0"
      ]
    },
    {
      "cell_type": "code",
      "execution_count": null,
      "metadata": {
        "colab": {
          "base_uri": "https://localhost:8080/"
        },
        "id": "rzipy63FApO1",
        "outputId": "1b714006-d8ea-41a6-c05f-caad492b51d1"
      },
      "outputs": [
        {
          "data": {
            "text/plain": [
              "(8192, 10, 2)"
            ]
          },
          "execution_count": 31,
          "metadata": {},
          "output_type": "execute_result"
        }
      ],
      "source": [
        "rho_p = 0.7\n",
        "\n",
        "S_1,v_1 = heston_model_sim(S0, v0, rho_p, kappa, theta, sigma,T, N, M)\n",
        "S_2,v_2 = heston_model_sim(S0, v0, rho_p, kappa, theta, sigma,T, N, M)\n",
        "\n",
        "S = np.stack((S_1, S_2), axis=0)\n",
        "\n",
        "S.T.shape"
      ]
    },
    {
      "cell_type": "markdown",
      "metadata": {
        "id": "Tit8QtktA-Op"
      },
      "source": [
        "# Payoff Management"
      ]
    },
    {
      "cell_type": "code",
      "execution_count": null,
      "metadata": {
        "id": "BPQJKJQZBBlr"
      },
      "outputs": [],
      "source": [
        "class Payoff:\n",
        "    def __init__(self, strike, option_type):\n",
        "        self.strike = strike\n",
        "        self.option_type = option_type\n",
        "        \n",
        "    def value(self, asset_prices, interest_rate, dates, k=0):\n",
        "        if (self.option_type == 0):\n",
        "            # max call\n",
        "            return np.exp(-interest_rate * dates[np.newaxis, k:]) * np.maximum(asset_prices.max(axis = 2) - self.strike, 0)\n",
        "        \n",
        "        elif (self.option_type == 1):\n",
        "            # max put\n",
        "            return np.exp(-interest_rate * dates[np.newaxis, k:]) * np.maximum(self.strike - asset_prices.min(axis = 2), 0)\n",
        "        \n",
        "        elif (self.option_type == 2):\n",
        "            d = len(asset_prices[0][0])\n",
        "            # geometric call\n",
        "            np.exp(-interest_rate * dates[np.newaxis, k:]) * np.maximum(asset_prices.prod(axis = 2)**(1/d) - self.strike, 0)"
      ]
    },
    {
      "cell_type": "markdown",
      "metadata": {
        "id": "GREnZt3KBJAC"
      },
      "source": [
        "# Neural Net Training"
      ]
    },
    {
      "cell_type": "code",
      "execution_count": null,
      "metadata": {
        "colab": {
          "base_uri": "https://localhost:8080/"
        },
        "id": "7cjDj3uYjAkb",
        "outputId": "1514dd53-b79a-4035-d0d1-88eab0aec95c"
      },
      "outputs": [
        {
          "name": "stdout",
          "output_type": "stream",
          "text": [
            "cpu\n"
          ]
        }
      ],
      "source": [
        "device = torch.device(\"cuda:0\" if torch.cuda.is_available() else \"cpu\")\n",
        "print(device)"
      ]
    },
    {
      "cell_type": "code",
      "execution_count": null,
      "metadata": {
        "id": "rawBvFx1jAkd"
      },
      "outputs": [],
      "source": [
        "def Build_Neural_Network(nn_structure):\n",
        "    \n",
        "    nb_hidden_layers = len(nn_structure) - 2\n",
        "    assert nb_hidden_layers >= 2, \" A neural network has a least two layers : input and output \"\n",
        "    \n",
        "    layers = []\n",
        "        \n",
        "    for i in range(0, nb_hidden_layers):\n",
        "        layers += [nn.Linear(nn_structure[i], nn_structure[i + 1]), nn.BatchNorm1d(nn_structure[i + 1]), nn.ReLU()]\n",
        "      \n",
        "    layers += [torch.nn.Linear(nn_structure[nb_hidden_layers], nn_structure[nb_hidden_layers + 1]), torch.nn.Sigmoid()]\n",
        "    \n",
        "    return nn.Sequential(*layers)"
      ]
    },
    {
      "cell_type": "code",
      "execution_count": null,
      "metadata": {
        "colab": {
          "background_save": true
        },
        "id": "AlTINf0ajAke"
      },
      "outputs": [],
      "source": [
        "def model_train(nn_structure, nn_hyper_params, model_params, nb_epoch_before_display, re_use_nn_params = False):\n",
        "    \n",
        "    # nn_structure : list containing specification of hidden layer : \n",
        "    # nn_hyper_params : dict containing nn hyperparameters\n",
        "    # model_params : dict containing BS model parameters\n",
        "    # re_use_nn_params : if True : we previously trained nn to initialize current nn weights\n",
        "\n",
        "    #################################################################################################################\n",
        "    ####################################################                  MODELS INIT\n",
        "    \n",
        "    N = len(model_params['diffusion_times']) - 1\n",
        "    nb_batches = ceil(nn_hyper_params['inputs_size'] / nn_hyper_params['batch_size'])\n",
        "    \n",
        "    nn_base = Build_Neural_Network(nn_structure)\n",
        "    f = [copy.deepcopy(nn_base).to(device) for i in range(N - 1)]\n",
        "    optimizers = [torch.optim.Adam(f[i].parameters(), lr = nn_hyper_params['lr']) for i in range(N - 1)]\n",
        "    BS = MultiDimensionalHeston(model_params['initial_prices'], model_params['interest_rate'], model_params['dividends'], model_params['correlation_matrix'])\n",
        "    losses = np.array([[0.0] * (N - 1)] * (nn_hyper_params['nb_epochs'] // nb_epoch_before_display))\n",
        "    \n",
        "    comp = 0\n",
        "    \n",
        "    #################################################################################################################\n",
        "    ####################################################                  TRAINING\n",
        "\n",
        "    for epoch in range(nn_hyper_params['nb_epochs']):\n",
        "        S_1,v_1 = heston_model_sim(S0, v0, rho_p, kappa, theta, sigma,T, N, M)\n",
        "        S_2,v_2 = heston_model_sim(S0, v0, rho_p, kappa, theta, sigma,T, N, M)\n",
        "        S_train = np.stack((S_1, S_2), axis=0)\n",
        "        # S_train = BS.Simulate(model_params['diffusion_times'][-1], N, nn_hyper_params['inputs_size'])\n",
        "        x = torch.from_numpy(S_train).float()\n",
        "        y = torch.unsqueeze(torch.from_numpy(my_payoff.value(S_train, model_params['interest_rate'], model_params['diffusion_times'])), dim=2).float()\n",
        "        payoff_tau = [y[i * nn_hyper_params['batch_size'] : min((i + 1) * nn_hyper_params['batch_size'], nn_hyper_params['inputs_size']) , N].to(device) for i in range(nb_batches)]\n",
        "        this_epoch_loss = np.full(N - 1, 0.0)\n",
        "        \n",
        "        # bakward induction\n",
        "        \n",
        "        for n in range(N - 1, 0, -1):\n",
        "            inputs = torch.cat((x[:,n], y[:,n]), 1)\n",
        "            \n",
        "            if n < N - 2 and re_use_nn_params:\n",
        "                f[n].parameters = f[n + 1].parameters\n",
        "            \n",
        "            for batch in range(nb_batches):\n",
        "                batch_range = [i for i in range(batch * nn_hyper_params['batch_size'], min((batch + 1) * nn_hyper_params['batch_size'], nn_hyper_params['inputs_size']))]\n",
        "                this_batch_inputs = inputs[batch_range, :].to(device)\n",
        "                optimizers[n - 1].zero_grad()\n",
        "                F_n = f[n - 1](this_batch_inputs)\n",
        "                f_n = (F_n >= 0.5).detach().float()\n",
        "                payoffs_batch = y[batch_range , n].to(device)\n",
        "                payoff_tau[batch] = payoffs_batch * f_n + payoff_tau[batch] * (1 - f_n)\n",
        "                z = torch.mean(torch.mul(torch.subtract(payoff_tau[batch], payoffs_batch), F_n))\n",
        "                this_epoch_loss[n - 1] += z.item() / float(nb_batches)\n",
        "                z.backward()\n",
        "                optimizers[n - 1].step()\n",
        "                \n",
        "        if(epoch % nb_epoch_before_display == 0):\n",
        "            losses[comp] = this_epoch_loss \n",
        "            print('epoch {}, losses : {}'.format(epoch, losses[comp]))\n",
        "            print('\\n')\n",
        "            comp += 1\n",
        "                \n",
        "    return f, losses"
      ]
    },
    {
      "cell_type": "markdown",
      "metadata": {
        "id": "9nHTUSH0jAkf"
      },
      "source": [
        "## Test"
      ]
    },
    {
      "cell_type": "code",
      "execution_count": null,
      "metadata": {
        "colab": {
          "base_uri": "https://localhost:8080/"
        },
        "id": "aKZTCbPwjAkf",
        "outputId": "5103e900-63a7-4549-f346-b28efd46fdc5"
      },
      "outputs": [
        {
          "data": {
            "text/plain": [
              "[3, 42, 42, 1]"
            ]
          },
          "execution_count": 36,
          "metadata": {},
          "output_type": "execute_result"
        }
      ],
      "source": [
        "##### BS parameters\n",
        "nb_assets = 2   # d = 2, 3, 5, 10\n",
        "expiry = 3      \n",
        "nb_ex_dates = 9\n",
        "strike = 100\n",
        "my_payoff = Payoff(strike, 0)\n",
        "\n",
        "# NN parameters\n",
        "nb_hidden_layers = 3\n",
        "nn_units = [nb_assets + 1] + [nb_assets + 40 for i in range(nb_hidden_layers - 1)] + [1]\n",
        "nb_epoch_before_display = 100\n",
        "\n",
        "nn_units"
      ]
    },
    {
      "cell_type": "code",
      "execution_count": null,
      "metadata": {
        "colab": {
          "base_uri": "https://localhost:8080/",
          "height": 329
        },
        "id": "Y5WIED0OjAkg",
        "outputId": "4205dde6-73b2-4be6-9f18-2cd4a71c45b4"
      },
      "outputs": [
        {
          "output_type": "error",
          "ename": "IndexError",
          "evalue": "ignored",
          "traceback": [
            "\u001b[0;31m---------------------------------------------------------------------------\u001b[0m",
            "\u001b[0;31mIndexError\u001b[0m                                Traceback (most recent call last)",
            "\u001b[0;32m<ipython-input-44-6d1a28585a10>\u001b[0m in \u001b[0;36m<module>\u001b[0;34m\u001b[0m\n\u001b[1;32m      8\u001b[0m             'correlation_matrix' : np.eye(nb_assets)}\n\u001b[1;32m      9\u001b[0m \u001b[0;34m\u001b[0m\u001b[0m\n\u001b[0;32m---> 10\u001b[0;31m \u001b[0mmy_models\u001b[0m\u001b[0;34m,\u001b[0m \u001b[0mlosses\u001b[0m \u001b[0;34m=\u001b[0m \u001b[0mmodel_train\u001b[0m\u001b[0;34m(\u001b[0m\u001b[0mnn_units\u001b[0m\u001b[0;34m,\u001b[0m \u001b[0mnn_hp\u001b[0m\u001b[0;34m,\u001b[0m \u001b[0mBS_params\u001b[0m\u001b[0;34m,\u001b[0m \u001b[0mnb_epoch_before_display\u001b[0m\u001b[0;34m)\u001b[0m\u001b[0;34m\u001b[0m\u001b[0;34m\u001b[0m\u001b[0m\n\u001b[0m",
            "\u001b[0;32m<ipython-input-40-73b347cd37de>\u001b[0m in \u001b[0;36mmodel_train\u001b[0;34m(nn_structure, nn_hyper_params, model_params, nb_epoch_before_display, re_use_nn_params)\u001b[0m\n\u001b[1;32m     43\u001b[0m             \u001b[0;32mfor\u001b[0m \u001b[0mbatch\u001b[0m \u001b[0;32min\u001b[0m \u001b[0mrange\u001b[0m\u001b[0;34m(\u001b[0m\u001b[0mnb_batches\u001b[0m\u001b[0;34m)\u001b[0m\u001b[0;34m:\u001b[0m\u001b[0;34m\u001b[0m\u001b[0;34m\u001b[0m\u001b[0m\n\u001b[1;32m     44\u001b[0m                 \u001b[0mbatch_range\u001b[0m \u001b[0;34m=\u001b[0m \u001b[0;34m[\u001b[0m\u001b[0mi\u001b[0m \u001b[0;32mfor\u001b[0m \u001b[0mi\u001b[0m \u001b[0;32min\u001b[0m \u001b[0mrange\u001b[0m\u001b[0;34m(\u001b[0m\u001b[0mbatch\u001b[0m \u001b[0;34m*\u001b[0m \u001b[0mnn_hyper_params\u001b[0m\u001b[0;34m[\u001b[0m\u001b[0;34m'batch_size'\u001b[0m\u001b[0;34m]\u001b[0m\u001b[0;34m,\u001b[0m \u001b[0mmin\u001b[0m\u001b[0;34m(\u001b[0m\u001b[0;34m(\u001b[0m\u001b[0mbatch\u001b[0m \u001b[0;34m+\u001b[0m \u001b[0;36m1\u001b[0m\u001b[0;34m)\u001b[0m \u001b[0;34m*\u001b[0m \u001b[0mnn_hyper_params\u001b[0m\u001b[0;34m[\u001b[0m\u001b[0;34m'batch_size'\u001b[0m\u001b[0;34m]\u001b[0m\u001b[0;34m,\u001b[0m \u001b[0mnn_hyper_params\u001b[0m\u001b[0;34m[\u001b[0m\u001b[0;34m'inputs_size'\u001b[0m\u001b[0;34m]\u001b[0m\u001b[0;34m)\u001b[0m\u001b[0;34m)\u001b[0m\u001b[0;34m]\u001b[0m\u001b[0;34m\u001b[0m\u001b[0;34m\u001b[0m\u001b[0m\n\u001b[0;32m---> 45\u001b[0;31m                 \u001b[0mthis_batch_inputs\u001b[0m \u001b[0;34m=\u001b[0m \u001b[0minputs\u001b[0m\u001b[0;34m[\u001b[0m\u001b[0mbatch_range\u001b[0m\u001b[0;34m,\u001b[0m \u001b[0;34m:\u001b[0m\u001b[0;34m]\u001b[0m\u001b[0;34m.\u001b[0m\u001b[0mto\u001b[0m\u001b[0;34m(\u001b[0m\u001b[0mdevice\u001b[0m\u001b[0;34m)\u001b[0m\u001b[0;34m\u001b[0m\u001b[0;34m\u001b[0m\u001b[0m\n\u001b[0m\u001b[1;32m     46\u001b[0m                 \u001b[0moptimizers\u001b[0m\u001b[0;34m[\u001b[0m\u001b[0mn\u001b[0m \u001b[0;34m-\u001b[0m \u001b[0;36m1\u001b[0m\u001b[0;34m]\u001b[0m\u001b[0;34m.\u001b[0m\u001b[0mzero_grad\u001b[0m\u001b[0;34m(\u001b[0m\u001b[0;34m)\u001b[0m\u001b[0;34m\u001b[0m\u001b[0;34m\u001b[0m\u001b[0m\n\u001b[1;32m     47\u001b[0m                 \u001b[0mF_n\u001b[0m \u001b[0;34m=\u001b[0m \u001b[0mf\u001b[0m\u001b[0;34m[\u001b[0m\u001b[0mn\u001b[0m \u001b[0;34m-\u001b[0m \u001b[0;36m1\u001b[0m\u001b[0;34m]\u001b[0m\u001b[0;34m(\u001b[0m\u001b[0mthis_batch_inputs\u001b[0m\u001b[0;34m)\u001b[0m\u001b[0;34m\u001b[0m\u001b[0;34m\u001b[0m\u001b[0m\n",
            "\u001b[0;31mIndexError\u001b[0m: index 2 is out of bounds for dimension 0 with size 2"
          ]
        }
      ],
      "source": [
        "nn_hp = {'lr' : 0.001, 'nb_epochs' : 3000, 'batch_size' : 8192, 'inputs_size' : 8192*1}\n",
        "\n",
        "BS_params = {'initial_prices' : np.full(nb_assets, 90),  # S_0 = 90, 100, 110\n",
        "             'interest_rate' : 0.05,\n",
        "            'dividends' : np.full(nb_assets, 0.1),\n",
        "            'volatilities' : np.full(nb_assets, 0.2),\n",
        "            'diffusion_times' : np.linspace(0, expiry, nb_ex_dates + 1),\n",
        "            'correlation_matrix' : np.eye(nb_assets)}\n",
        "\n",
        "my_models, losses = model_train(nn_units, nn_hp, BS_params, nb_epoch_before_display)"
      ]
    },
    {
      "cell_type": "code",
      "execution_count": null,
      "metadata": {
        "colab": {
          "base_uri": "https://localhost:8080/",
          "height": 515
        },
        "id": "pFR8sgL5jAkh",
        "outputId": "43d9c831-3d8e-41eb-f787-2df2dd028a9d"
      },
      "outputs": [
        {
          "data": {
            "text/plain": [
              "Text(0, 0.5, 'loss')"
            ]
          },
          "execution_count": 12,
          "metadata": {},
          "output_type": "execute_result"
        },
        {
          "data": {
            "image/png": "[encoded data removed]",
            "text/plain": [
              "<Figure size 1080x576 with 1 Axes>"
            ]
          },
          "metadata": {},
          "output_type": "display_data"
        }
      ],
      "source": [
        "epoch = np.array([i * nb_epoch_before_display for i in range(nn_hp['nb_epochs'] // nb_epoch_before_display)])\n",
        "plt.figure(figsize=(15,8))\n",
        "for i in range(len(losses[0])):\n",
        "    plt.plot(epoch, losses[:,i])\n",
        "plt.xlabel(\"epoch\")\n",
        "plt.ylabel(\"loss\")"
      ]
    },
    {
      "cell_type": "markdown",
      "metadata": {
        "id": "UQgdBFgbjAkh"
      },
      "source": [
        "# # Lower Bound"
      ]
    },
    {
      "cell_type": "code",
      "execution_count": null,
      "metadata": {
        "id": "406P15iZjAkh"
      },
      "outputs": [],
      "source": [
        "K_L = 1096000\n",
        "BS_lower = MultiDimensionalBS(BS_params['initial_prices'], BS_params['interest_rate'], BS_params['dividends'], BS_params['volatilities'], BS_params['correlation_matrix'])\n",
        "S_lower = BS_lower.Simulate(expiry, nb_ex_dates, K_L)\n",
        "x = torch.from_numpy(S_lower).float()\n",
        "y = torch.unsqueeze(torch.from_numpy(my_payoff.value(S_lower, BS_params['interest_rate'], BS_params['diffusion_times'])), dim=2).float()"
      ]
    },
    {
      "cell_type": "code",
      "execution_count": null,
      "metadata": {
        "colab": {
          "base_uri": "https://localhost:8080/"
        },
        "id": "g23gVLlTjAki",
        "outputId": "80fd5c19-97c4-49c2-a175-ff2f4751481f"
      },
      "outputs": [
        {
          "name": "stdout",
          "output_type": "stream",
          "text": [
            "8 reward : tensor(15.2633)\n",
            "7 reward : tensor(15.7495)\n",
            "6 reward : tensor(16.0980)\n",
            "5 reward : tensor(16.3628)\n",
            "4 reward : tensor(16.5184)\n",
            "3 reward : tensor(16.5925)\n",
            "2 reward : tensor(16.6061)\n",
            "1 reward : tensor(16.6061)\n",
            "0 reward : tensor(16.6061)\n"
          ]
        }
      ],
      "source": [
        "# init\n",
        "tau = y[:,nb_ex_dates].new_full(y[:,nb_ex_dates].shape, nb_ex_dates).to(device)\n",
        "payoff_tau = y[:,nb_ex_dates].to(device)\n",
        "\n",
        "# backward induction\n",
        "for n in range(nb_ex_dates - 1, 0, -1):\n",
        "    inputs = torch.cat((x[:,n], y[:,n]), 1)\n",
        "    f_n = (my_models[n - 1](inputs.to(device)) >= 0.5).detach().float()\n",
        "    tau = n * f_n + tau * (1 - f_n)\n",
        "    payoffs = y[:, n].to(device)\n",
        "    payoff_tau = payoffs * f_n + payoff_tau * (1 - f_n)\n",
        "    print(n, 'reward :', payoff_tau.mean())\n",
        "    \n",
        "# initial date\n",
        "payoffs = y[:,0].to(device)\n",
        "f_n = (payoffs >= (payoff_tau).mean()).detach().float()\n",
        "tau *= (1 - f_n)\n",
        "payoff_tau = payoffs * f_n + payoff_tau * (1 - f_n)\n",
        "\n",
        "lower = payoff_tau\n",
        "lower_bound = lower.mean().item()\n",
        "print(0, 'reward :', payoff_tau.mean())"
      ]
    },
    {
      "cell_type": "code",
      "execution_count": null,
      "metadata": {
        "colab": {
          "base_uri": "https://localhost:8080/"
        },
        "id": "Q6JnZuUVjAkj",
        "outputId": "f01617cd-732f-490b-a43e-ba8fefd752bc"
      },
      "outputs": [
        {
          "name": "stdout",
          "output_type": "stream",
          "text": [
            "tau : 7.668 lower bound : 16.606\n"
          ]
        }
      ],
      "source": [
        "print('tau :', round(tau.mean().item(), 3), 'lower bound :', round(lower_bound, 3))"
      ]
    },
    {
      "cell_type": "markdown",
      "metadata": {
        "id": "j5u_gYTzjAkj"
      },
      "source": [
        "# # Upper Bound"
      ]
    },
    {
      "cell_type": "code",
      "execution_count": null,
      "metadata": {
        "id": "p5w7u_XnjAkj"
      },
      "outputs": [],
      "source": [
        "J = 16384\n",
        "K_U = 1024\n",
        "BS_upper = MultiDimensionalBS(BS_params['initial_prices'], BS_params['interest_rate'], BS_params['dividends'], BS_params['volatilities'], BS_params['correlation_matrix'])"
      ]
    },
    {
      "cell_type": "code",
      "execution_count": null,
      "metadata": {
        "id": "uCnHmRKyjAkk"
      },
      "outputs": [],
      "source": [
        "S_upper = BS_upper.Simulate(expiry, nb_ex_dates, K_U)\n",
        "x = torch.from_numpy(S_upper).float()\n",
        "y = torch.unsqueeze(torch.from_numpy(my_payoff.value(S_upper, BS_params['interest_rate'], BS_params['diffusion_times'])), dim=2).float()"
      ]
    },
    {
      "cell_type": "code",
      "execution_count": null,
      "metadata": {
        "id": "F9vDbUSLjAkk"
      },
      "outputs": [],
      "source": [
        "S_cond = BS_upper.Simulate_Next_State(S_upper[:, nb_ex_dates - 1, :], BS_params['diffusion_times'][nb_ex_dates - 1], BS_params['diffusion_times'][nb_ex_dates:], J)\n",
        "y_cond = [my_payoff.value(S_cond[k], BS_params['interest_rate'], BS_params['diffusion_times'][nb_ex_dates:]) for k in range(K_U)]\n",
        "C_n_1 = torch.from_numpy(np.mean(np.squeeze([y_cond[k] for k in range(K_U)], axis = 2), axis = 1)).to(device)\n",
        "mg_increments = torch.from_numpy(np.array([[0.0] * K_U] * (nb_ex_dates + 1)))\n",
        "mg_increments[nb_ex_dates] = y[:, nb_ex_dates, 0].to(device) - C_n_1\n",
        "f_n = [[torch.from_numpy(np.array([[1.0] * 1] * J)).to(device)] * 1] * K_U\n",
        "\n",
        "for n in range(nb_ex_dates - 1, 0, -1):\n",
        "    S_cond = BS_upper.Simulate_Next_State(S_upper[:, n - 1, :], BS_params['diffusion_times'][n - 1], BS_params['diffusion_times'][n:], J)\n",
        "    y_cond = [torch.unsqueeze(torch.from_numpy(my_payoff.value(S_cond[k], BS_params['interest_rate'], BS_params['diffusion_times'][n:])), dim = 2).float() for k in range(K_U)]\n",
        "    S_cond = torch.from_numpy(S_cond).float()\n",
        "    \n",
        "    inputs = [[torch.cat((S_cond[k][:, m], y_cond[k][:, m]), 1) for m in range(0, nb_ex_dates - n)] for k in range(K_U)]\n",
        "    payoff_tau = [y_cond[k][:, nb_ex_dates - n].to(device) for k in range(K_U)]\n",
        "        \n",
        "    if (not (n == nb_ex_dates - 1)):\n",
        "        f_n = [[(my_models[n + m - 1](inputs[k][m].to(device)) >= 0.5).detach().float() for m in range(0, nb_ex_dates - n)] for k in range(K_U)]\n",
        "        \n",
        "        for m in range(nb_ex_dates - n - 1, -1, -1):\n",
        "            payoff_tau = [y_cond[k][:, m, :].to(device) * f_n[k][m] + (1 - f_n[k][m]) * payoff_tau[k] for k in range(K_U)]\n",
        "    \n",
        "    C_n = C_n_1\n",
        "    C_n_1 = [torch.mean(torch.squeeze(payoff_tau[k], dim = 1)).item() for k in range(K_U)]\n",
        "    C_n_1 = torch.from_numpy(np.array(C_n_1)).to(device)\n",
        "        \n",
        "    inputs = torch.cat((x[:,n], y[:,n]), 1)\n",
        "    f_n = (my_models[n - 1](inputs.to(device)) >= 0.5).detach().float()\n",
        "    mg_increments[n] = (y[:, n, 0].to(device) - C_n) * torch.squeeze(f_n, dim = 1) + C_n - C_n_1\n",
        "    \n",
        "mg_doob = torch.cumsum(torch.transpose(mg_increments, 0, 1), dim = 1)\n",
        "\n",
        "upper = (y[:,:,0].to(device) - mg_doob.to(device)).max(dim = 1).values\n",
        "upper_bound = upper.mean().item()"
      ]
    },
    {
      "cell_type": "code",
      "execution_count": null,
      "metadata": {
        "id": "5Oe0sQlsjAkl"
      },
      "outputs": [],
      "source": [
        "print('upper bound :', round(upper_bound, 3))"
      ]
    },
    {
      "cell_type": "code",
      "execution_count": null,
      "metadata": {
        "id": "vZChm5qtjAkl"
      },
      "outputs": [],
      "source": [
        "IC_inf = round(lower_bound - 1.96 * torch.std(lower).item() / sqrt(K_L), 3)\n",
        "IC_sup = round(upper_bound + 1.96 * torch.std(upper).item() / sqrt(K_U), 3)\n",
        "\n",
        "print('- lower bound :', round(lower_bound, 3))\n",
        "print('- upper bound :', round(upper_bound, 3))\n",
        "print('- point estimator :', round((lower_bound + upper_bound) / 2.0, 3))\n",
        "print('')\n",
        "print('IC 95% :', (IC_inf, IC_sup))"
      ]
    }
  ],
  "metadata": {
    "colab": {
      "provenance": []
    },
    "kernelspec": {
      "display_name": "Python 3",
      "name": "python3"
    },
    "language_info": {
      "name": "python"
    }
  },
  "nbformat": 4,
  "nbformat_minor": 0
}